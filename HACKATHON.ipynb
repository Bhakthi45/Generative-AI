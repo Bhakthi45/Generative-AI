{
  "nbformat": 4,
  "nbformat_minor": 0,
  "metadata": {
    "colab": {
      "provenance": [],
      "authorship_tag": "ABX9TyMRrwTWSFNvSzppF78LoNyG",
      "include_colab_link": true
    },
    "kernelspec": {
      "name": "python3",
      "display_name": "Python 3"
    },
    "language_info": {
      "name": "python"
    }
  },
  "cells": [
    {
      "cell_type": "markdown",
      "metadata": {
        "id": "view-in-github",
        "colab_type": "text"
      },
      "source": [
        "<a href=\"https://colab.research.google.com/github/Bhakthi45/Generative-AI/blob/main/HACKATHON.ipynb\" target=\"_parent\"><img src=\"https://colab.research.google.com/assets/colab-badge.svg\" alt=\"Open In Colab\"/></a>"
      ]
    },
    {
      "cell_type": "code",
      "execution_count": 13,
      "metadata": {
        "id": "tbcRjcwZpMcd",
        "colab": {
          "base_uri": "https://localhost:8080/"
        },
        "outputId": "fe7e692f-d10e-4137-aec4-29d495ddf1bc"
      },
      "outputs": [
        {
          "output_type": "stream",
          "name": "stdout",
          "text": [
            "Accuracy: 0.00%\n",
            "Predicted Contract Type: Lease\n"
          ]
        }
      ],
      "source": [
        "import pandas as pd\n",
        "import numpy as np\n",
        "from sklearn.feature_extraction.text import TfidfVectorizer\n",
        "from sklearn.model_selection import train_test_split\n",
        "from sklearn.naive_bayes import MultinomialNB\n",
        "from sklearn.metrics import accuracy_score\n",
        "\n",
        "# Sample dataset\n",
        "data = {\n",
        "    'text': [\n",
        "        \"This contract is made between employer and employee for work terms...\",\n",
        "        \"This agreement ensures that confidential data is not shared...\",\n",
        "        \"This lease agreement allows the tenant to use the premises...\",\n",
        "        \"The service provider agrees to deliver services as outlined...\"\n",
        "    ],\n",
        "    'label': ['Employment', 'NDA', 'Lease', 'Service']\n",
        "}\n",
        "\n",
        "df = pd.DataFrame(data)\n",
        "\n",
        "# Text preprocessing\n",
        "vectorizer = TfidfVectorizer()\n",
        "X = vectorizer.fit_transform(df['text'])\n",
        "y = np.array(df['label'])\n",
        "\n",
        "# Train-test split\n",
        "X_train, X_test, y_train, y_test = train_test_split(X, y, test_size=0.2, random_state=42)\n",
        "\n",
        "# Model training\n",
        "model = MultinomialNB()\n",
        "model.fit(X_train, y_train)\n",
        "\n",
        "# Predictions\n",
        "y_pred = model.predict(X_test)\n",
        "print(f\"Accuracy: {accuracy_score(y_test, y_pred) * 100:.2f}%\")\n",
        "\n",
        "# Test with new legal text\n",
        "new_text = [\"This document protects confidential information.\"]\n",
        "new_vector = vectorizer.transform(new_text)\n",
        "print(\"Predicted Contract Type:\", model.predict(new_vector)[0])\n"
      ]
    },
    {
      "cell_type": "code",
      "source": [
        "import spacy\n",
        "\n",
        "# Load pre-trained legal NLP model\n",
        "nlp = spacy.load(\"en_core_web_sm\")\n",
        "\n",
        "# Sample legal document\n",
        "legal_text = \"\"\"This Non-Disclosure Agreement (NDA) is entered into on April 5, 2023,\n",
        "between ABC Corp and XYZ Ltd, ensuring confidential information remains protected.\"\"\"\n",
        "\n",
        "# Process text\n",
        "doc = nlp(legal_text)\n",
        "\n",
        "# Extract Named Entities\n",
        "print(\"Entities in the contract:\")\n",
        "for ent in doc.ents:\n",
        "    print(f\"{ent.text} - {ent.label_}\")\n"
      ],
      "metadata": {
        "colab": {
          "base_uri": "https://localhost:8080/"
        },
        "id": "3eHqqko8_Mkb",
        "outputId": "c5b9b8b3-8ddb-47fe-87bc-26143750701f"
      },
      "execution_count": 5,
      "outputs": [
        {
          "output_type": "stream",
          "name": "stdout",
          "text": [
            "Entities in the contract:\n",
            "NDA - ORG\n",
            "April 5, 2023 - DATE\n",
            "ABC Corp - ORG\n",
            "XYZ Ltd - ORG\n"
          ]
        }
      ]
    },
    {
      "cell_type": "code",
      "source": [
        "from sklearn.feature_extraction.text import TfidfVectorizer\n",
        "from sklearn.metrics.pairwise import cosine_similarity\n",
        "\n",
        "# Sample legal clauses\n",
        "clauses = [\n",
        "    \"The employee must provide 30 days' notice before resignation.\",\n",
        "    \"The contractor must provide a written notice before terminating services.\",\n",
        "    \"Confidential information must not be disclosed to third parties.\",\n",
        "    \"The employer reserves the right to terminate employment for misconduct.\"\n",
        "]\n",
        "\n",
        "# Convert text to TF-IDF vectors\n",
        "vectorizer = TfidfVectorizer()\n",
        "tfidf_matrix = vectorizer.fit_transform(clauses)\n",
        "\n",
        "# Compute cosine similarity\n",
        "similarity_matrix = cosine_similarity(tfidf_matrix, tfidf_matrix)\n",
        "\n",
        "# Display similarity\n",
        "import pandas as pd\n",
        "df_sim = pd.DataFrame(similarity_matrix, columns=[\"Clause1\", \"Clause2\", \"Clause3\", \"Clause4\"])\n",
        "print(df_sim)\n"
      ],
      "metadata": {
        "colab": {
          "base_uri": "https://localhost:8080/"
        },
        "id": "MKdLR9tG_P5p",
        "outputId": "9a95fc95-bf45-4c76-d3ab-00b358d68e0d"
      },
      "execution_count": 6,
      "outputs": [
        {
          "output_type": "stream",
          "name": "stdout",
          "text": [
            "    Clause1   Clause2   Clause3   Clause4\n",
            "0  1.000000  0.401162  0.055632  0.103654\n",
            "1  0.401162  1.000000  0.055632  0.103654\n",
            "2  0.055632  0.055632  1.000000  0.072123\n",
            "3  0.103654  0.103654  0.072123  1.000000\n"
          ]
        }
      ]
    },
    {
      "cell_type": "code",
      "source": [
        "import pandas as pd\n",
        "from sklearn.feature_extraction.text import TfidfVectorizer\n",
        "from sklearn.model_selection import train_test_split\n",
        "from sklearn.ensemble import RandomForestClassifier\n",
        "from sklearn.metrics import accuracy_score\n",
        "\n",
        "# Sample dataset\n",
        "data = {\n",
        "    'text': [\n",
        "        \"The employee must not disclose confidential company information.\",\n",
        "        \"The contract may be terminated with 30 days' notice.\",\n",
        "        \"The employer shall provide health benefits as per the policy.\",\n",
        "        \"This agreement protects intellectual property from misuse.\"\n",
        "    ],\n",
        "    'label': ['Confidentiality', 'Termination', 'Employment', 'Confidentiality']\n",
        "}\n",
        "\n",
        "df = pd.DataFrame(data)\n",
        "\n",
        "# Text vectorization\n",
        "vectorizer = TfidfVectorizer()\n",
        "X = vectorizer.fit_transform(df['text'])\n",
        "y = df['label']\n",
        "\n",
        "# Train-test split\n",
        "X_train, X_test, y_train, y_test = train_test_split(X, y, test_size=0.2, random_state=42)\n",
        "\n",
        "# Model training\n",
        "model = RandomForestClassifier()\n",
        "model.fit(X_train, y_train)\n",
        "\n",
        "# Predictions\n",
        "y_pred = model.predict(X_test)\n",
        "print(f\"Accuracy: {accuracy_score(y_test, y_pred) * 100:.2f}%\")\n"
      ],
      "metadata": {
        "colab": {
          "base_uri": "https://localhost:8080/"
        },
        "id": "925XoYXa_T_U",
        "outputId": "1bba10f1-aa45-4d5c-d00c-4fd41c31f616"
      },
      "execution_count": 7,
      "outputs": [
        {
          "output_type": "stream",
          "name": "stdout",
          "text": [
            "Accuracy: 0.00%\n"
          ]
        }
      ]
    },
    {
      "cell_type": "code",
      "source": [
        "!pip install sumy\n",
        "!python -c \"import nltk; nltk.download('punkt')\"\n",
        "!python -c \"import nltk; nltk.download('punkt_tab')\"\n",
        "\n",
        "from sumy.parsers.plaintext import PlaintextParser\n",
        "from sumy.nlp.tokenizers import Tokenizer\n",
        "from sumy.summarizers.text_rank import TextRankSummarizer\n",
        "\n",
        "# Sample long legal document\n",
        "legal_text = \"\"\"\n",
        "This Service Agreement is made on April 5, 2023, between ABC Corp and XYZ Ltd.\n",
        "The Service Provider agrees to deliver IT consulting services for a period of one year.\n",
        "The Client shall pay a monthly retainer of $5,000. If the Client fails to make timely payments,\n",
        "the Service Provider reserves the right to terminate services after a 30-day notice period.\n",
        "All disputes shall be resolved through arbitration.\n",
        "\"\"\"\n",
        "\n",
        "# Summarization\n",
        "parser = PlaintextParser.from_string(legal_text, Tokenizer(\"english\"))\n",
        "summarizer = TextRankSummarizer()\n",
        "summary = summarizer(parser.document, 2)  # Summarize to 2 sentences\n",
        "\n",
        "print(\"Legal Document Summary:\")\n",
        "for sentence in summary:\n",
        "    print(sentence)"
      ],
      "metadata": {
        "colab": {
          "base_uri": "https://localhost:8080/"
        },
        "id": "qjVKp1Qc_X42",
        "outputId": "d8c0566b-46bc-4160-e228-a55aa52fc323"
      },
      "execution_count": 10,
      "outputs": [
        {
          "output_type": "stream",
          "name": "stdout",
          "text": [
            "Requirement already satisfied: sumy in /usr/local/lib/python3.11/dist-packages (0.11.0)\n",
            "Requirement already satisfied: docopt<0.7,>=0.6.1 in /usr/local/lib/python3.11/dist-packages (from sumy) (0.6.2)\n",
            "Requirement already satisfied: breadability>=0.1.20 in /usr/local/lib/python3.11/dist-packages (from sumy) (0.1.20)\n",
            "Requirement already satisfied: requests>=2.7.0 in /usr/local/lib/python3.11/dist-packages (from sumy) (2.32.3)\n",
            "Requirement already satisfied: pycountry>=18.2.23 in /usr/local/lib/python3.11/dist-packages (from sumy) (24.6.1)\n",
            "Requirement already satisfied: nltk>=3.0.2 in /usr/local/lib/python3.11/dist-packages (from sumy) (3.9.1)\n",
            "Requirement already satisfied: chardet in /usr/local/lib/python3.11/dist-packages (from breadability>=0.1.20->sumy) (5.2.0)\n",
            "Requirement already satisfied: lxml>=2.0 in /usr/local/lib/python3.11/dist-packages (from breadability>=0.1.20->sumy) (5.3.1)\n",
            "Requirement already satisfied: click in /usr/local/lib/python3.11/dist-packages (from nltk>=3.0.2->sumy) (8.1.8)\n",
            "Requirement already satisfied: joblib in /usr/local/lib/python3.11/dist-packages (from nltk>=3.0.2->sumy) (1.4.2)\n",
            "Requirement already satisfied: regex>=2021.8.3 in /usr/local/lib/python3.11/dist-packages (from nltk>=3.0.2->sumy) (2024.11.6)\n",
            "Requirement already satisfied: tqdm in /usr/local/lib/python3.11/dist-packages (from nltk>=3.0.2->sumy) (4.67.1)\n",
            "Requirement already satisfied: charset-normalizer<4,>=2 in /usr/local/lib/python3.11/dist-packages (from requests>=2.7.0->sumy) (3.4.1)\n",
            "Requirement already satisfied: idna<4,>=2.5 in /usr/local/lib/python3.11/dist-packages (from requests>=2.7.0->sumy) (3.10)\n",
            "Requirement already satisfied: urllib3<3,>=1.21.1 in /usr/local/lib/python3.11/dist-packages (from requests>=2.7.0->sumy) (2.3.0)\n",
            "Requirement already satisfied: certifi>=2017.4.17 in /usr/local/lib/python3.11/dist-packages (from requests>=2.7.0->sumy) (2025.1.31)\n",
            "[nltk_data] Downloading package punkt to /root/nltk_data...\n",
            "[nltk_data]   Unzipping tokenizers/punkt.zip.\n",
            "[nltk_data] Downloading package punkt_tab to /root/nltk_data...\n",
            "[nltk_data]   Unzipping tokenizers/punkt_tab.zip.\n",
            "Legal Document Summary:\n",
            "The Service Provider agrees to deliver IT consulting services for a period of one year.\n",
            "If the Client fails to make timely payments, the Service Provider reserves the right to terminate services after a 30-day notice period.\n"
          ]
        }
      ]
    },
    {
      "cell_type": "code",
      "source": [
        "import time\n",
        "import pandas as pd\n",
        "import numpy as np\n",
        "import spacy\n",
        "from sklearn.feature_extraction.text import TfidfVectorizer\n",
        "from sklearn.model_selection import train_test_split\n",
        "from sklearn.naive_bayes import MultinomialNB\n",
        "from sklearn.ensemble import RandomForestClassifier\n",
        "from sklearn.metrics import accuracy_score\n",
        "from sklearn.metrics.pairwise import cosine_similarity\n",
        "from sumy.parsers.plaintext import PlaintextParser\n",
        "from sumy.nlp.tokenizers import Tokenizer\n",
        "from sumy.summarizers.text_rank import TextRankSummarizer\n",
        "\n",
        "# Sample dataset\n",
        "data = {\n",
        "    'text': [\n",
        "        \"The employee must provide 30 days' notice before resignation.\",\n",
        "        \"The contractor must provide a written notice before terminating services.\",\n",
        "        \"Confidential information must not be disclosed to third parties.\",\n",
        "        \"The employer reserves the right to terminate employment for misconduct.\"\n",
        "    ],\n",
        "    'label': ['Employment', 'Termination', 'Confidentiality', 'Termination']\n",
        "}\n",
        "df = pd.DataFrame(data)\n",
        "\n",
        "# Text vectorization\n",
        "vectorizer = TfidfVectorizer()\n",
        "X = vectorizer.fit_transform(df['text'])\n",
        "y = np.array(df['label'])\n",
        "\n",
        "# Split dataset\n",
        "X_train, X_test, y_train, y_test = train_test_split(X, y, test_size=0.2, random_state=42)\n",
        "\n",
        "# --- Naïve Bayes Classifier ---\n",
        "start_time = time.time()\n",
        "nb_model = MultinomialNB()\n",
        "nb_model.fit(X_train, y_train)\n",
        "y_pred_nb = nb_model.predict(X_test)\n",
        "nb_accuracy = accuracy_score(y_test, y_pred_nb) * 100\n",
        "nb_time = time.time() - start_time\n",
        "\n",
        "# --- Random Forest Classifier ---\n",
        "start_time = time.time()\n",
        "rf_model = RandomForestClassifier()\n",
        "rf_model.fit(X_train, y_train)\n",
        "y_pred_rf = rf_model.predict(X_test)\n",
        "rf_accuracy = accuracy_score(y_test, y_pred_rf) * 100\n",
        "rf_time = time.time() - start_time\n",
        "\n",
        "# --- Named Entity Recognition (NER) ---\n",
        "nlp = spacy.load(\"en_core_web_sm\")\n",
        "start_time = time.time()\n",
        "legal_text = \"This contract was signed by XYZ Ltd on April 5, 2023.\"\n",
        "doc = nlp(legal_text)\n",
        "ner_time = time.time() - start_time\n",
        "ner_entities = [(ent.text, ent.label_) for ent in doc.ents]\n",
        "\n",
        "# --- Clause Similarity (TF-IDF + Cosine Similarity) ---\n",
        "start_time = time.time()\n",
        "tfidf_matrix = vectorizer.transform(df['text'])\n",
        "similarity_matrix = cosine_similarity(tfidf_matrix, tfidf_matrix)\n",
        "similarity_time = time.time() - start_time\n",
        "\n",
        "# --- Legal Document Summarization (TextRank) ---\n",
        "start_time = time.time()\n",
        "parser = PlaintextParser.from_string(legal_text, Tokenizer(\"english\"))\n",
        "summarizer = TextRankSummarizer()\n",
        "summary = summarizer(parser.document, 2)\n",
        "summarization_time = time.time() - start_time\n",
        "summary_text = \" \".join([str(sentence) for sentence in summary])\n",
        "\n",
        "# --- Results ---\n",
        "comparison_results = pd.DataFrame({\n",
        "    \"Model\": [\"Naïve Bayes\", \"Random Forest\", \"NER\", \"Clause Similarity\", \"Summarization\"],\n",
        "    \"Accuracy (%)\": [nb_accuracy, rf_accuracy, \"-\", \"-\", \"-\"],\n",
        "    \"Execution Time (s)\": [nb_time, rf_time, ner_time, similarity_time, summarization_time],\n",
        "    \"Usability (1-5)\": [4, 3, 5, 4, 5],\n",
        "    \"Scalability (1-5)\": [3, 4, 5, 3, 3]\n",
        "})\n",
        "\n",
        "print(comparison_results)\n",
        "print(\"\\nNER Entities Extracted:\", ner_entities)\n",
        "print(\"\\nSummarized Text:\", summary_text)\n"
      ],
      "metadata": {
        "colab": {
          "base_uri": "https://localhost:8080/"
        },
        "id": "Hyv_v6nQAZpp",
        "outputId": "85bb8494-1c8b-4e03-a5d5-a680ee5dabf4"
      },
      "execution_count": 11,
      "outputs": [
        {
          "output_type": "stream",
          "name": "stdout",
          "text": [
            "               Model Accuracy (%)  Execution Time (s)  Usability (1-5)  \\\n",
            "0        Naïve Bayes          0.0            0.012282                4   \n",
            "1      Random Forest          0.0            0.381444                3   \n",
            "2                NER            -            0.032886                5   \n",
            "3  Clause Similarity            -            0.003185                4   \n",
            "4      Summarization            -            0.070702                5   \n",
            "\n",
            "   Scalability (1-5)  \n",
            "0                  3  \n",
            "1                  4  \n",
            "2                  5  \n",
            "3                  3  \n",
            "4                  3  \n",
            "\n",
            "NER Entities Extracted: [('XYZ Ltd', 'ORG'), ('April 5, 2023', 'DATE')]\n",
            "\n",
            "Summarized Text: This contract was signed by XYZ Ltd on April 5, 2023.\n"
          ]
        }
      ]
    },
    {
      "cell_type": "code",
      "source": [
        "import time\n",
        "import spacy\n",
        "import numpy as np\n",
        "import pandas as pd\n",
        "from sklearn.naive_bayes import MultinomialNB\n",
        "from sklearn.ensemble import RandomForestClassifier\n",
        "from sklearn.feature_extraction.text import TfidfVectorizer\n",
        "from sklearn.model_selection import train_test_split\n",
        "from sklearn.metrics import accuracy_score\n",
        "from sklearn.metrics.pairwise import cosine_similarity\n",
        "from sumy.parsers.plaintext import PlaintextParser\n",
        "from sumy.nlp.tokenizers import Tokenizer\n",
        "from sumy.summarizers.text_rank import TextRankSummarizer\n",
        "\n",
        "# Load SpaCy NER model\n",
        "nlp = spacy.load(\"en_core_web_sm\")\n",
        "\n",
        "# Sample legal contracts dataset\n",
        "data = {\n",
        "    'text': [\n",
        "        \"The employee must provide 30 days' notice before resignation.\",\n",
        "        \"The contractor must provide a written notice before terminating services.\",\n",
        "        \"Confidential information must not be disclosed to third parties.\",\n",
        "        \"The employer reserves the right to terminate employment for misconduct.\"\n",
        "    ],\n",
        "    'label': ['Employment', 'Termination', 'Confidentiality', 'Termination']\n",
        "}\n",
        "df = pd.DataFrame(data)\n",
        "\n",
        "# Convert text data into numerical features\n",
        "vectorizer = TfidfVectorizer()\n",
        "X = vectorizer.fit_transform(df['text'])\n",
        "y = np.array(df['label'])\n",
        "\n",
        "# Split dataset for training and testing\n",
        "X_train, X_test, y_train, y_test = train_test_split(X, y, test_size=0.2, random_state=42)\n",
        "\n",
        "# --- Contract Type Classification (Naïve Bayes) ---\n",
        "nb_model = MultinomialNB()\n",
        "nb_model.fit(X_train, y_train)\n",
        "y_pred_nb = nb_model.predict(X_test)\n",
        "nb_accuracy = accuracy_score(y_test, y_pred_nb) * 100\n",
        "\n",
        "# --- Clause Classification (Random Forest) ---\n",
        "rf_model = RandomForestClassifier()\n",
        "rf_model.fit(X_train, y_train)\n",
        "y_pred_rf = rf_model.predict(X_test)\n",
        "rf_accuracy = accuracy_score(y_test, y_pred_rf) * 100\n",
        "\n",
        "# --- Named Entity Recognition (NER) ---\n",
        "legal_text = \"This contract was signed by XYZ Ltd on April 5, 2023.\"\n",
        "doc = nlp(legal_text)\n",
        "ner_entities = [(ent.text, ent.label_) for ent in doc.ents]\n",
        "\n",
        "# --- Clause Similarity (TF-IDF + Cosine Similarity) ---\n",
        "tfidf_matrix = vectorizer.transform(df['text'])\n",
        "similarity_matrix = cosine_similarity(tfidf_matrix, tfidf_matrix)\n",
        "\n",
        "# --- Legal Document Summarization (TextRank) ---\n",
        "parser = PlaintextParser.from_string(legal_text, Tokenizer(\"english\"))\n",
        "summarizer = TextRankSummarizer()\n",
        "summary = summarizer(parser.document, 2)\n",
        "summary_text = \" \".join([str(sentence) for sentence in summary])\n",
        "\n",
        "# --- Final Results ---\n",
        "hybrid_results = pd.DataFrame({\n",
        "    \"Model\": [\"Naïve Bayes (Contract Type)\", \"Random Forest (Clause Classification)\", \"NER (Entity Extraction)\", \"Clause Similarity\", \"Summarization\"],\n",
        "    \"Accuracy (%)\": [nb_accuracy, rf_accuracy, \"-\", \"-\", \"-\"],\n",
        "})\n",
        "\n",
        "print(hybrid_results)\n",
        "print(\"\\nNER Entities Extracted:\", ner_entities)\n",
        "print(\"\\nSummarized Text:\", summary_text)\n"
      ],
      "metadata": {
        "colab": {
          "base_uri": "https://localhost:8080/"
        },
        "id": "sih_oNVOAzz0",
        "outputId": "13a265b4-c1e5-40f9-f1a7-f53cd28713e5"
      },
      "execution_count": 12,
      "outputs": [
        {
          "output_type": "stream",
          "name": "stdout",
          "text": [
            "                                   Model Accuracy (%)\n",
            "0            Naïve Bayes (Contract Type)          0.0\n",
            "1  Random Forest (Clause Classification)          0.0\n",
            "2                NER (Entity Extraction)            -\n",
            "3                      Clause Similarity            -\n",
            "4                          Summarization            -\n",
            "\n",
            "NER Entities Extracted: [('XYZ Ltd', 'ORG'), ('April 5, 2023', 'DATE')]\n",
            "\n",
            "Summarized Text: This contract was signed by XYZ Ltd on April 5, 2023.\n"
          ]
        }
      ]
    }
  ]
}